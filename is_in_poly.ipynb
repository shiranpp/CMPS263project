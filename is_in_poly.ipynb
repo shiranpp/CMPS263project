{
 "cells": [
  {
   "cell_type": "code",
   "execution_count": 183,
   "metadata": {
    "collapsed": false
   },
   "outputs": [],
   "source": [
    "import json\n",
    "import matplotlib.path as mplPath\n",
    "import numpy as np\n",
    "\n",
    "import matplotlib.pyplot as plt\n",
    "from matplotlib.path import Path\n",
    "import matplotlib.patches as patches\n",
    "from dbbase import session,Dist,MDist,Cell,Record\n",
    "\n",
    "json_data = open('beijing1.json').read()\n",
    "data = json.loads(json_data)\n",
    "\n",
    "# for item in data:\n",
    "#     print item[1]\n",
    "\n",
    "# district_index = 0\n",
    "# boarder_data = data['features'][district_index]['geometry']['coordinates'][0]\n",
    "# this_dstc_data_array = np.array(boarder_data)\n",
    "# print find_data\n"
   ]
  },
  {
   "cell_type": "code",
   "execution_count": 184,
   "metadata": {
    "collapsed": false
   },
   "outputs": [],
   "source": [
    "bbPath_list = []"
   ]
  },
  {
   "cell_type": "code",
   "execution_count": 185,
   "metadata": {
    "collapsed": false
   },
   "outputs": [],
   "source": [
    "# boarder_data = data['features'][10]['geometry']['coordinates'][0][0]\n",
    "# boarder_data"
   ]
  },
  {
   "cell_type": "code",
   "execution_count": 186,
   "metadata": {
    "collapsed": false
   },
   "outputs": [
    {
     "data": {
      "text/plain": [
       "18"
      ]
     },
     "execution_count": 186,
     "metadata": {},
     "output_type": "execute_result"
    }
   ],
   "source": [
    "for district_index in range(0,len(data['features'])):\n",
    "    if (data['features'][district_index]['properties']['childNum'] == 2):\n",
    "        boarder_data = data['features'][district_index]['geometry']['coordinates'][0][0]\n",
    "        this_dstc_data_array = np.array(boarder_data)\n",
    "        bbPath = mplPath.Path(this_dstc_data_array)\n",
    "        bbPath_list.append(mplPath.Path(this_dstc_data_array))\n",
    "    else:\n",
    "        boarder_data = data['features'][district_index]['geometry']['coordinates'][0]\n",
    "        this_dstc_data_array = np.array(boarder_data)\n",
    "        bbPath = mplPath.Path(this_dstc_data_array)\n",
    "        bbPath_list.append(mplPath.Path(this_dstc_data_array))\n",
    "\n",
    "bbPath_list\n",
    "len(bbPath_list)"
   ]
  },
  {
   "cell_type": "code",
   "execution_count": 195,
   "metadata": {
    "collapsed": false
   },
   "outputs": [
    {
     "data": {
      "text/plain": [
       "['__class__',\n",
       " '__delattr__',\n",
       " '__dict__',\n",
       " '__doc__',\n",
       " '__format__',\n",
       " '__getattribute__',\n",
       " '__hash__',\n",
       " '__init__',\n",
       " '__mapper__',\n",
       " '__module__',\n",
       " '__new__',\n",
       " '__reduce__',\n",
       " '__reduce_ex__',\n",
       " '__repr__',\n",
       " '__setattr__',\n",
       " '__sizeof__',\n",
       " '__str__',\n",
       " '__subclasshook__',\n",
       " '__table__',\n",
       " '__tablename__',\n",
       " '__weakref__',\n",
       " '_decl_class_registry',\n",
       " '_sa_class_manager',\n",
       " '_sa_instance_state',\n",
       " 'avg_price',\n",
       " 'cood',\n",
       " 'id',\n",
       " 'mdist',\n",
       " 'mdist_id',\n",
       " 'metadata',\n",
       " 'name',\n",
       " 'onsale_num',\n",
       " 'traffic']"
      ]
     },
     "execution_count": 195,
     "metadata": {},
     "output_type": "execute_result"
    }
   ],
   "source": [
    "cells=session.query(Cell).filter(Cell.avg_price>3000).all()\n",
    "dir(cells[0])"
   ]
  },
  {
   "cell_type": "code",
   "execution_count": 196,
   "metadata": {
    "collapsed": false
   },
   "outputs": [
    {
     "data": {
      "text/plain": [
       "83253"
      ]
     },
     "execution_count": 196,
     "metadata": {},
     "output_type": "execute_result"
    }
   ],
   "source": [
    "cells[0].avg_price"
   ]
  },
  {
   "cell_type": "code",
   "execution_count": 206,
   "metadata": {
    "collapsed": true
   },
   "outputs": [],
   "source": [
    "def find_cood_float(str):\n",
    "    x_cood = ''\n",
    "    y_cood = ''\n",
    "    iter_index = 0\n",
    "    for character in str:\n",
    "        if character == '[':\n",
    "            iter_index += 1\n",
    "            continue\n",
    "        if character == ',':\n",
    "            iter_index += 1\n",
    "            break\n",
    "        else:\n",
    "            x_cood += character\n",
    "            iter_index += 1\n",
    "    for i in range(iter_index ,len(str)-1):\n",
    "        y_cood += str[i]        \n",
    "    return float(x_cood), float(y_cood)"
   ]
  },
  {
   "cell_type": "code",
   "execution_count": 208,
   "metadata": {
    "collapsed": false
   },
   "outputs": [
    {
     "data": {
      "text/plain": [
       "[[], [], [], [], [], [], [], [], [], [], [], [], [], [], [], [], [], []]"
      ]
     },
     "execution_count": 208,
     "metadata": {},
     "output_type": "execute_result"
    }
   ],
   "source": [
    "test = {}\n",
    "test['id'] = '001'\n",
    "xx = 10.13\n",
    "yy = 20.23\n",
    "test['cood'] = [xx,yy]\n",
    "test['id'] = '009'\n",
    "test\n",
    "this_district_json = [[] for i in range(0,18)]\n",
    "this_district_json"
   ]
  },
  {
   "cell_type": "code",
   "execution_count": null,
   "metadata": {
    "collapsed": true
   },
   "outputs": [],
   "source": [
    "this_district_json = [[] for i in range(0,18)]\n",
    "\n",
    "\n",
    "\n",
    "for cell in cells:\n",
    "    x , y = find_cood_float(cell.cood)\n",
    "    for i in range(0, len(bbPath_list)):\n",
    "        if (bbPath_list[i].contains_point((x,y))):\n",
    "            # put into this distriction\n",
    "            a_cell = {}\n",
    "            a_cell['id'] = cell.id\n",
    "            a_cell['avg_price'] = cell.avg_price\n",
    "            a_cell['cood'] = [x,y]\n",
    "            this_district_json[i].append(a_cell)\n",
    "            break\n",
    "        else:\n",
    "            continue\n",
    "    \n",
    "        "
   ]
  },
  {
   "cell_type": "code",
   "execution_count": 81,
   "metadata": {
    "collapsed": false
   },
   "outputs": [
    {
     "data": {
      "text/plain": [
       "u'[39.9521224,116.4047021]'"
      ]
     },
     "execution_count": 81,
     "metadata": {},
     "output_type": "execute_result"
    }
   ],
   "source": [
    "cells[0].cood"
   ]
  },
  {
   "cell_type": "code",
   "execution_count": 89,
   "metadata": {
    "collapsed": false
   },
   "outputs": [
    {
     "name": "stdout",
     "output_type": "stream",
     "text": [
      "[\n",
      "1\n",
      ",\n",
      "2\n",
      "]\n"
     ]
    }
   ],
   "source": [
    "tmp = ''\n",
    "tmp += '[1,2]'\n",
    "# print tmp[2]\n",
    "# len(tmp)\n",
    "for i in range(0,len(tmp)):\n",
    "    print tmp[i]"
   ]
  },
  {
   "cell_type": "code",
   "execution_count": 83,
   "metadata": {
    "collapsed": true
   },
   "outputs": [],
   "source": []
  },
  {
   "cell_type": "code",
   "execution_count": 84,
   "metadata": {
    "collapsed": false
   },
   "outputs": [],
   "source": []
  },
  {
   "cell_type": "code",
   "execution_count": 107,
   "metadata": {
    "collapsed": false
   },
   "outputs": [
    {
     "ename": "ValueError",
     "evalue": "'vertices' must be a 2D list or array with shape Nx2",
     "output_type": "error",
     "traceback": [
      "\u001b[0;31m---------------------------------------------------------------------------\u001b[0m",
      "\u001b[0;31mValueError\u001b[0m                                Traceback (most recent call last)",
      "\u001b[0;32m<ipython-input-107-c6e62d8f68bf>\u001b[0m in \u001b[0;36m<module>\u001b[0;34m()\u001b[0m\n\u001b[0;32m----> 1\u001b[0;31m \u001b[0mbbPath\u001b[0m \u001b[0;34m=\u001b[0m \u001b[0mmplPath\u001b[0m\u001b[0;34m.\u001b[0m\u001b[0mPath\u001b[0m\u001b[0;34m(\u001b[0m\u001b[0mthis_dstc_data_array\u001b[0m\u001b[0;34m)\u001b[0m\u001b[0;34m\u001b[0m\u001b[0m\n\u001b[0m",
      "\u001b[0;32m/usr/local/lib/python2.7/site-packages/matplotlib/path.pyc\u001b[0m in \u001b[0;36m__init__\u001b[0;34m(self, vertices, codes, _interpolation_steps, closed, readonly)\u001b[0m\n\u001b[1;32m    139\u001b[0m         \u001b[0;32mif\u001b[0m \u001b[0;34m(\u001b[0m\u001b[0mvertices\u001b[0m\u001b[0;34m.\u001b[0m\u001b[0mndim\u001b[0m \u001b[0;34m!=\u001b[0m \u001b[0;36m2\u001b[0m\u001b[0;34m)\u001b[0m \u001b[0;32mor\u001b[0m \u001b[0;34m(\u001b[0m\u001b[0mvertices\u001b[0m\u001b[0;34m.\u001b[0m\u001b[0mshape\u001b[0m\u001b[0;34m[\u001b[0m\u001b[0;36m1\u001b[0m\u001b[0;34m]\u001b[0m \u001b[0;34m!=\u001b[0m \u001b[0;36m2\u001b[0m\u001b[0;34m)\u001b[0m\u001b[0;34m:\u001b[0m\u001b[0;34m\u001b[0m\u001b[0m\n\u001b[1;32m    140\u001b[0m             \u001b[0mmsg\u001b[0m \u001b[0;34m=\u001b[0m \u001b[0;34m\"'vertices' must be a 2D list or array with shape Nx2\"\u001b[0m\u001b[0;34m\u001b[0m\u001b[0m\n\u001b[0;32m--> 141\u001b[0;31m             \u001b[0;32mraise\u001b[0m \u001b[0mValueError\u001b[0m\u001b[0;34m(\u001b[0m\u001b[0mmsg\u001b[0m\u001b[0;34m)\u001b[0m\u001b[0;34m\u001b[0m\u001b[0m\n\u001b[0m\u001b[1;32m    142\u001b[0m \u001b[0;34m\u001b[0m\u001b[0m\n\u001b[1;32m    143\u001b[0m         \u001b[0;32mif\u001b[0m \u001b[0mcodes\u001b[0m \u001b[0;32mis\u001b[0m \u001b[0;32mnot\u001b[0m \u001b[0mNone\u001b[0m\u001b[0;34m:\u001b[0m\u001b[0;34m\u001b[0m\u001b[0m\n",
      "\u001b[0;31mValueError\u001b[0m: 'vertices' must be a 2D list or array with shape Nx2"
     ]
    }
   ],
   "source": [
    "bbPath = mplPath.Path(this_dstc_data_array)\n"
   ]
  },
  {
   "cell_type": "code",
   "execution_count": null,
   "metadata": {
    "collapsed": true
   },
   "outputs": [],
   "source": []
  },
  {
   "cell_type": "code",
   "execution_count": 17,
   "metadata": {
    "collapsed": false
   },
   "outputs": [
    {
     "data": {
      "image/png": "[encoded data removed]",
      "text/plain": [
       "<matplotlib.figure.Figure at 0x10bf07810>"
      ]
     },
     "metadata": {},
     "output_type": "display_data"
    }
   ],
   "source": [
    "\n",
    "\n",
    "# verts = [\n",
    "#     (0., 0.), # left, bottom\n",
    "#     (0., 1.), # left, top\n",
    "#     (1., 1.), # right, top\n",
    "#     (1., 0.), # right, bottom\n",
    "#     (0., 0.), # ignored\n",
    "#     ]\n",
    "\n",
    "# codes = [Path.MOVETO,\n",
    "#          Path.LINETO,\n",
    "#          Path.LINETO,\n",
    "#          Path.LINETO,\n",
    "#          Path.CLOSEPOLY,\n",
    "#          ]\n",
    "\n",
    "path = Path(data_array)\n",
    "\n",
    "fig = plt.figure()\n",
    "ax = fig.add_subplot(111)\n",
    "patch = patches.PathPatch(path, facecolor='orange', lw=2)\n",
    "ax.add_patch(patch)\n",
    "ax.set_xlim(min(data_array[:,0]),max(data_array[:,0]))\n",
    "ax.set_ylim(min(data_array[:,1]),max(data_array[:,1]))\n",
    "plt.show()"
   ]
  },
  {
   "cell_type": "code",
   "execution_count": null,
   "metadata": {
    "collapsed": false
   },
   "outputs": [],
   "source": []
  },
  {
   "cell_type": "code",
   "execution_count": null,
   "metadata": {
    "collapsed": true
   },
   "outputs": [],
   "source": []
  }
 ],
 "metadata": {
  "kernelspec": {
   "display_name": "Python 2",
   "language": "python",
   "name": "python2"
  },
  "language_info": {
   "codemirror_mode": {
    "name": "ipython",
    "version": 2
   },
   "file_extension": ".py",
   "mimetype": "text/x-python",
   "name": "python",
   "nbconvert_exporter": "python",
   "pygments_lexer": "ipython2",
   "version": "2.7.12"
  }
 },
 "nbformat": 4,
 "nbformat_minor": 2
}

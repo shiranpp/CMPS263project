{
 "cells": [
  {
   "cell_type": "code",
   "execution_count": null,
   "metadata": {
    "collapsed": false
   },
   "outputs": [],
   "source": [
    "import json\n",
    "import matplotlib.path as mplPath\n",
    "import numpy as np\n",
    "import re\n",
    "import matplotlib.pyplot as plt\n",
    "from matplotlib.path import Path\n",
    "import matplotlib.patches as patches\n",
    "from dbbase import session,Dist,MDist,Cell,Record\n",
    "\n",
    "json_data = open('beijing.json').read()\n",
    "data = json.loads(json_data)"
   ]
  },
  {
   "cell_type": "code",
   "execution_count": 2,
   "metadata": {
    "collapsed": true
   },
   "outputs": [],
   "source": [
    "def hashlist(l):\n",
    "    return str(l[0])+str(l[1])"
   ]
  },
  {
   "cell_type": "code",
   "execution_count": 3,
   "metadata": {
    "collapsed": false
   },
   "outputs": [
    {
     "data": {
      "text/plain": [
       "7147"
      ]
     },
     "execution_count": 3,
     "metadata": {},
     "output_type": "execute_result"
    }
   ],
   "source": [
    "cells=session.query(Cell).filter(Cell.avg_price>3000).all()\n",
    "len(cells)"
   ]
  },
  {
   "cell_type": "code",
   "execution_count": 4,
   "metadata": {
    "collapsed": false
   },
   "outputs": [],
   "source": [
    "cood=[]\n",
    "for cell in cells:\n",
    "    se=re.findall(\"[0-9.]+\",cell.cood)\n",
    "    if (se):\n",
    "        cood.append([float(se[1]),float(se[0])])\n",
    "    else:\n",
    "        cood.append([0,0])"
   ]
  },
  {
   "cell_type": "code",
   "execution_count": 5,
   "metadata": {
    "collapsed": false
   },
   "outputs": [],
   "source": [
    "n=len(data['features'])"
   ]
  },
  {
   "cell_type": "code",
   "execution_count": 9,
   "metadata": {
    "collapsed": false
   },
   "outputs": [],
   "source": [
    "polys=[]\n",
    "for i in range(0,n):\n",
    "    poly=[]\n",
    "    cdatas=data['features'][i]['geometry']['coordinates']\n",
    "    if (data['features'][i]['properties']['childNum']<2):\n",
    "        poly.append(mplPath.Path(np.array(cdatas[0])))\n",
    "    else:\n",
    "        for cdata in cdatas:\n",
    "            poly.append(mplPath.Path(np.array(cdata[0])))\n",
    "    polys.append(poly)"
   ]
  },
  {
   "cell_type": "code",
   "execution_count": 10,
   "metadata": {
    "collapsed": false
   },
   "outputs": [],
   "source": [
    "dists=[[] for i in range(0,n)]\n",
    "dicts=[{} for i in range(0,n)]\n",
    "for i in range(0,len(cells)):\n",
    "    loc=cood[i]\n",
    "    for j in reversed(range(0,n)):\n",
    "        for poly in polys[j]:\n",
    "            if (poly.contains_point(loc)):\n",
    "                if(hashlist(loc) in dicts[j]):\n",
    "                    dicts[j][hashlist(loc)][\"name\"].append(cells[i].name)\n",
    "                    dicts[j][hashlist(loc)][\"price\"].append(cells[i].avg_price)\n",
    "                else:\n",
    "                    dicts[j][hashlist(loc)]={\"cood\":loc}\n",
    "                    dicts[j][hashlist(loc)][\"name\"]=[cells[i].name]\n",
    "                    dicts[j][hashlist(loc)][\"price\"]=[cells[i].avg_price]"
   ]
  },
  {
   "cell_type": "code",
   "execution_count": 12,
   "metadata": {
    "collapsed": false
   },
   "outputs": [
    {
     "name": "stdout",
     "output_type": "stream",
     "text": [
      "24450\n",
      "27549\n",
      "26202\n",
      "33667\n",
      "33441\n",
      "39476\n",
      "40847\n",
      "37162\n",
      "21809\n",
      "45938\n",
      "65933\n",
      "80854\n",
      "55042\n",
      "50434\n",
      "111870\n",
      "97030\n",
      "88160\n",
      "80216\n"
     ]
    }
   ],
   "source": [
    "for i in range(0,n):\n",
    "    s=0\n",
    "    num=0\n",
    "    cell={'cood':[],}\n",
    "    for key, value in dicts[i].iteritems():\n",
    "        s+=sum(value[\"price\"])\n",
    "        num+=len(value[\"price\"])\n",
    "    data['features'][i]['properties']['avg_price']=s/num"
   ]
  },
  {
   "cell_type": "code",
   "execution_count": null,
   "metadata": {
    "collapsed": false
   },
   "outputs": [],
   "source": [
    "sum([1,2])"
   ]
  },
  {
   "cell_type": "code",
   "execution_count": null,
   "metadata": {
    "collapsed": false
   },
   "outputs": [],
   "source": [
    "data_array=np.array(data['features'][7]['geometry']['coordinates'][1])\n",
    "path = Path(data_array)\n",
    "\n",
    "fig = plt.figure()\n",
    "ax = fig.add_subplot(111)\n",
    "patch = patches.PathPatch(path, facecolor='orange', lw=2)\n",
    "ax.add_patch(patch)\n",
    "ax.set_xlim(max(data_array[:,0]),min(data_array[:,0]))\n",
    "ax.set_ylim(max(data_array[:,1]),min(data_array[:,1]))\n",
    "plt.show()"
   ]
  },
  {
   "cell_type": "code",
   "execution_count": null,
   "metadata": {
    "collapsed": false
   },
   "outputs": [],
   "source": [
    "max(data_array[:,0])"
   ]
  },
  {
   "cell_type": "code",
   "execution_count": null,
   "metadata": {
    "collapsed": true
   },
   "outputs": [],
   "source": [
    ""
   ]
  }
 ],
 "metadata": {
  "kernelspec": {
   "display_name": "Python 2",
   "language": "python",
   "name": "python2"
  },
  "language_info": {
   "codemirror_mode": {
    "name": "ipython",
    "version": 2.0
   },
   "file_extension": ".py",
   "mimetype": "text/x-python",
   "name": "python",
   "nbconvert_exporter": "python",
   "pygments_lexer": "ipython2",
   "version": "2.7.12"
  }
 },
 "nbformat": 4,
 "nbformat_minor": 0
}
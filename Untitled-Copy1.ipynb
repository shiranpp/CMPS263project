{
 "cells": [
  {
   "cell_type": "code",
   "execution_count": 9,
   "metadata": {
    "collapsed": false
   },
   "outputs": [],
   "source": [
    "from sqlalchemy.ext.declarative import declarative_base\n",
    "from sqlalchemy import Column, Integer, String, DateTime, create_engine, ForeignKey\n",
    "from sqlalchemy.orm import relationship\n",
    "Base = declarative_base()\n",
    "engine=create_engine(\"sqlite:///aptpricedb.db\")"
   ]
  },
  {
   "cell_type": "code",
   "execution_count": 7,
   "metadata": {
    "collapsed": false
   },
   "outputs": [],
   "source": [
    "class Dist(Base):\n",
    "    __tablename__ = 'dist'\n",
    "\n",
    "    id = Column(String(32), primary_key=True)\n",
    "    name = Column(String(64))\n",
    "    \n",
    "    def __repr__(self):\n",
    "        return \"<Dist(%r, %r)>\" % (\n",
    "                self.id, self.name\n",
    "            )\n",
    "class MDist(Base):\n",
    "    __tablename__ = 'mdist'\n",
    "\n",
    "    id = Column(String(32), primary_key=True)\n",
    "    name = Column(String(64))\n",
    "    dist_id = Column(String(32),ForeignKey('dist.id'))\n",
    "    cood=Column(String(64))\n",
    "    dist=relationship('Dist')\n",
    "    def __repr__(self):\n",
    "        return \"<MiniDist(%r, %r, %r, %r)>\" % (\n",
    "                self.id, self.name, self.cood, self.dist.name\n",
    "            )\n",
    "class Cell(Base):\n",
    "    __tablename__ = 'cell'\n",
    "\n",
    "    id = Column(String(32), primary_key=True)\n",
    "    name = Column(String(64))\n",
    "    cood=Column(String(64))\n",
    "    avg_price=Column(Integer)\n",
    "    onsale_num=Column(Integer)\n",
    "    traffic=Column(String(64))\n",
    "    mdist_id = Column(String(32),ForeignKey('mdist.id'))\n",
    "    mdist=relationship('MDist')\n",
    "    \n",
    "    def __repr__(self):\n",
    "        return \"<Cell(%r, %r, %r, %r, %r, %r, %r, %r)>\" % (\n",
    "                self.id, self.name, self.cood, self.avg_price, self.onsale_num, self.traffic, self.mdist.name, self.mdist.dist.name\n",
    "            )\n",
    "class Record(Base):\n",
    "    __tablename__ = 'record'\n",
    "\n",
    "    id = Column(String(32), primary_key=True)\n",
    "    plan = Column(String(32))\n",
    "    date =Column(DateTime)\n",
    "    area =Column(Integer)\n",
    "    price = Column(Integer)\n",
    "    pva = Column(Integer)\n",
    "    info = Column(String(64))\n",
    "    cell_id = Column(String(32),ForeignKey('cell.id'))\n",
    "    cell=relationship('Cell')\n",
    "    \n",
    "    def __repr__(self):\n",
    "        return \"<MiniDist(%r, %r, %r, %r, %r, %r, %r, %r)>\" % (\n",
    "                self.id, self.plan, self.date, self.area, self.price, self.pva, self.info, self.cell.name\n",
    "            )"
   ]
  },
  {
   "cell_type": "code",
   "execution_count": 8,
   "metadata": {
    "collapsed": true
   },
   "outputs": [],
   "source": [
    "Base.metadata.create_all(engine)"
   ]
  },
  {
   "cell_type": "code",
   "execution_count": 16,
   "metadata": {
    "collapsed": false
   },
   "outputs": [
    {
     "data": {
      "text/plain": [
       "<MiniDist('andingmen', 'xuanwu', 'dongchengqu')>"
      ]
     },
     "execution_count": 16,
     "metadata": {},
     "output_type": "execute_result"
    }
   ],
   "source": [
    "Session = sessionmaker(bind=e)\n",
    "session = Session()"
   ]
  },
  {
   "cell_type": "code",
   "execution_count": null,
   "metadata": {
    "collapsed": true
   },
   "outputs": [],
   "source": []
  }
 ],
 "metadata": {
  "kernelspec": {
   "display_name": "Python 2",
   "language": "python",
   "name": "python2"
  },
  "language_info": {
   "codemirror_mode": {
    "name": "ipython",
    "version": 2
   },
   "file_extension": ".py",
   "mimetype": "text/x-python",
   "name": "python",
   "nbconvert_exporter": "python",
   "pygments_lexer": "ipython2",
   "version": "2.7.11"
  }
 },
 "nbformat": 4,
 "nbformat_minor": 2
}

{
 "cells": [
  {
   "cell_type": "code",
   "execution_count": 1,
   "metadata": {
    "collapsed": true
   },
   "outputs": [],
   "source": [
    "import json\n",
    "from pprint import pprint\n",
    "import dbbase\n",
    "#Data base structure\n",
    "from dbbase import session,Dist,MDist,Cell,Record,engine\n",
    "from sqlalchemy.sql import func\n",
    "import sys\n",
    "default_stdout = sys.stdout\n",
    "default_stderr = sys.stderr\n",
    "reload(sys)\n",
    "sys.setdefaultencoding(\"utf-8\")\n",
    "sys.stdout = default_stdout\n",
    "sys.stderr = default_stderr\n",
    "\n",
    "with open('beijing.json') as data_file:    \n",
    "    data = json.load(data_file)"
   ]
  },
  {
   "cell_type": "code",
   "execution_count": 2,
   "metadata": {
    "collapsed": false
   },
   "outputs": [],
   "source": [
    "name=data['features'][0]['properties']['name'][0:2]\n",
    "dist=session.query(Dist).filter(Dist.name.like('%%'+name+'%%')).first()"
   ]
  },
  {
   "cell_type": "code",
   "execution_count": 3,
   "metadata": {
    "collapsed": false
   },
   "outputs": [
    {
     "data": {
      "text/plain": [
       "u'110228'"
      ]
     },
     "execution_count": 3,
     "metadata": {},
     "output_type": "execute_result"
    }
   ],
   "source": [
    "data['features'][0]['properties']['id']"
   ]
  },
  {
   "cell_type": "code",
   "execution_count": 6,
   "metadata": {
    "collapsed": false
   },
   "outputs": [
    {
     "name": "stdout",
     "output_type": "stream",
     "text": [
      "密云 110228\n",
      "怀柔 110116\n",
      "房山 110111\n",
      "延庆 110229\n",
      "门头沟 110109\n",
      "昌平 110114\n",
      "大兴 110115\n",
      "顺义 110113\n",
      "平谷 110117\n",
      "通州 110112\n",
      "朝阳 110105\n",
      "海淀 110108\n",
      "丰台 110106\n",
      "石景山 110107\n",
      "西城 110102\n",
      "东城 110101\n",
      "宣武区 110104\n",
      "崇文区 110103\n"
     ]
    }
   ],
   "source": [
    "for i in range (0,len(data['features'])):\n",
    "    name = data['features'][i]['properties']['name'][0:2]\n",
    "    dist=session.query(Dist).filter(Dist.name.like('%%'+name+'%%')).first()\n",
    "    if (dist != None):\n",
    "        dist.map_id=data['features'][i]['properties']['id']\n",
    "        data['features'][i]['properties']['avg_price']=dist.avg_price\n",
    "        print dist.name,dist.map_id\n",
    "        session.commit()\n",
    "    else:\n",
    "        data['features'][i]['properties']['avg_price']=0\n",
    "        print data['features'][i]['properties']['name'],data['features'][i]['properties']['id']"
   ]
  },
  {
   "cell_type": "code",
   "execution_count": 7,
   "metadata": {
    "collapsed": false
   },
   "outputs": [],
   "source": [
    "import json\n",
    "with open('beijing1.json', 'w') as outfile:\n",
    "    json.dump(data, outfile)"
   ]
  },
  {
   "cell_type": "code",
   "execution_count": 3,
   "metadata": {
    "collapsed": true
   },
   "outputs": [
    {
     "data": {
      "text/plain": [
       "[[], [], [], [], [], [], [], [], [], [], [], [], [], [], [], [], [], []]"
      ]
     },
     "execution_count": 3,
     "metadata": {},
     "output_type": "execute_result"
    }
   ],
   "source": [
    "[[] for i in range(0,18) ]"
   ]
  },
  {
   "cell_type": "code",
   "execution_count": null,
   "metadata": {},
   "outputs": [],
   "source": [
    ""
   ]
  }
 ],
 "metadata": {
  "kernelspec": {
   "display_name": "Python 2",
   "language": "python",
   "name": "python2"
  },
  "language_info": {
   "codemirror_mode": {
    "name": "ipython",
    "version": 2.0
   },
   "file_extension": ".py",
   "mimetype": "text/x-python",
   "name": "python",
   "nbconvert_exporter": "python",
   "pygments_lexer": "ipython2",
   "version": "2.7.12"
  }
 },
 "nbformat": 4,
 "nbformat_minor": 0
}
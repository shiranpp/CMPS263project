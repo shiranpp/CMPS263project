{
 "cells": [
  {
   "cell_type": "code",
   "execution_count": 1,
   "metadata": {
    "collapsed": false
   },
   "outputs": [],
   "source": [
    "'''\n",
    "    Jobui Spider\n",
    "    Author: Ryan Shi, Ziqiang Wang\n",
    "    For CMPS263 project\n",
    "    Find all salary history and data of job in the JobUI\n",
    "'''\n",
    "from translation import youdao\n",
    "import matplotlib.pyplot as plt\n",
    "import numpy as np\n",
    "import unicodecsv as csv\n",
    "import sys\n",
    "import re\n",
    "import threading\n",
    "import time\n",
    "default_stdout = sys.stdout\n",
    "default_stderr = sys.stderr\n",
    "reload(sys)\n",
    "sys.setdefaultencoding(\"utf-8\")\n",
    "sys.stdout = default_stdout\n",
    "sys.stderr = default_stderr\n",
    "EECE=[]\n",
    "CS=[]\n",
    "with open(\"wage.csv\",\"rb\") as csvfile:\n",
    "    reader =  csv.DictReader(csvfile)\n",
    "    for row in reader:\n",
    "        if (re.search(u\"计算机\",row[\"area\"])):\n",
    "            CS.append(row)\n",
    "        if ( re.search(u\"电子\",row[\"area\"])):\n",
    "            EECE.append(row)"
   ]
  },
  {
   "cell_type": "code",
   "execution_count": 2,
   "metadata": {
    "collapsed": false
   },
   "outputs": [],
   "source": [
    "cswages=[]\n",
    "csnames=[]\n",
    "for row in CS:\n",
    "    wage=[]\n",
    "    if((row[\"exp_5\"] != '')):\n",
    "        wage+=[int(row[\"exp_0\"])*12]\n",
    "        wage+=[int(row[\"exp_1\"])*12]*2\n",
    "        wage+=[int(row[\"exp_2\"])*12]*3\n",
    "        wage+=[int(row[\"exp_3\"])*12]*2\n",
    "        wage+=[int(row[\"exp_4\"])*12]*3\n",
    "        wage+=[int(row[\"exp_5\"])*12]*19\n",
    "    else:\n",
    "        if(row[\"exp_4\"] != ''):\n",
    "            wage+=[int(row[\"exp_0\"])*12]\n",
    "            wage+=[int(row[\"exp_1\"])*12]*2\n",
    "            wage+=[int(row[\"exp_2\"])*12]*3\n",
    "            wage+=[int(row[\"exp_3\"])*12]*2\n",
    "            wage+=[int(row[\"exp_4\"])*12]*22\n",
    "        else:\n",
    "            wage+=[int(row[\"exp_0\"])*12]*3\n",
    "            wage+=[int(row[\"exp_1\"])*12]*3\n",
    "            wage+=[int(row[\"exp_2\"])*12]*2\n",
    "            wage+=[int(row[\"exp_3\"])*12]*22\n",
    "    cswages.append(wage)\n",
    "    csnames.append(row[\"title\"])\n",
    "cstwages=[]\n",
    "for wage in cswages:\n",
    "    cstwages.append([sum(wage[0:i]) for i in range(1,31)])\n",
    "cstwages=np.array(cstwages)"
   ]
  },
  {
   "cell_type": "code",
   "execution_count": 3,
   "metadata": {},
   "outputs": [],
   "source": [
    "eewages=[]\n",
    "eenames=[]\n",
    "for row in EECE:\n",
    "    wage=[]\n",
    "    if((row[\"exp_5\"] != '')):\n",
    "        wage+=[int(row[\"exp_0\"])*12]\n",
    "        wage+=[int(row[\"exp_1\"])*12]*2\n",
    "        wage+=[int(row[\"exp_2\"])*12]*3\n",
    "        wage+=[int(row[\"exp_3\"])*12]*2\n",
    "        wage+=[int(row[\"exp_4\"])*12]*3\n",
    "        wage+=[int(row[\"exp_5\"])*12]*19\n",
    "    else:\n",
    "        if(row[\"exp_4\"] != ''):\n",
    "            wage+=[int(row[\"exp_0\"])*12]\n",
    "            wage+=[int(row[\"exp_1\"])*12]*2\n",
    "            wage+=[int(row[\"exp_2\"])*12]*3\n",
    "            wage+=[int(row[\"exp_3\"])*12]*2\n",
    "            wage+=[int(row[\"exp_4\"])*12]*22\n",
    "        else:\n",
    "            wage+=[int(row[\"exp_0\"])*12]*3\n",
    "            wage+=[int(row[\"exp_1\"])*12]*3\n",
    "            wage+=[int(row[\"exp_2\"])*12]*2\n",
    "            wage+=[int(row[\"exp_3\"])*12]*22\n",
    "    eewages.append(wage)\n",
    "    eenames.append(row[\"title\"])\n",
    "eetwages=[]\n",
    "for wage in eewages:\n",
    "    eetwages.append([sum(wage[0:i]) for i in range(1,31)])\n",
    "eetwages=np.array(eetwages)"
   ]
  },
  {
   "cell_type": "code",
   "execution_count": 4,
   "metadata": {},
   "outputs": [],
   "source": [
    "twages=[]\n",
    "names=[]\n",
    "twages.append(np.average(cstwages,axis=0))\n",
    "names.append(u\"SDE/Network average(软件/网络平均)\")"
   ]
  },
  {
   "cell_type": "code",
   "execution_count": 5,
   "metadata": {},
   "outputs": [],
   "source": [
    "twages.append(cstwages[np.argmin(cstwages[:,29])])\n",
    "names.append(youdao(csnames[np.argmin(cstwages[:,29])],dst = 'en')+'('+csnames[np.argmin(cstwages[:,29])]+')')\n",
    "twages.append(cstwages[np.argmax(cstwages[:,29])])\n",
    "names.append(youdao(csnames[np.argmax(cstwages[:,29])],dst = 'en')+'('+csnames[np.argmax(cstwages[:,29])]+')')"
   ]
  },
  {
   "cell_type": "code",
   "execution_count": 6,
   "metadata": {},
   "outputs": [],
   "source": [
    "twages.append(np.average(eetwages,axis=0))\n",
    "names.append(u\"Electronic/Electrical/Communication average(电子/电器/通信平均)\")\n",
    "twages.append(eetwages[np.argmin(eetwages[:,29])])\n",
    "names.append(youdao(eenames[np.argmin(eetwages[:,29])],dst = 'en')+'('+eenames[np.argmin(eetwages[:,29])]+')')\n",
    "twages.append(eetwages[np.argmax(eetwages[:,29])])\n",
    "names.append(youdao(eenames[np.argmax(cstwages[:,29])],dst = 'en')+'('+eenames[np.argmax(eetwages[:,29])]+')')"
   ]
  },
  {
   "cell_type": "code",
   "execution_count": 7,
   "metadata": {},
   "outputs": [
    {
     "name": "stdout",
     "output_type": "stream",
     "text": [
      "[u'SDE/Network average(软件/网络平均)', u'Website editor(网站编辑)', u'Senior product manager(高级产品经理)', u'Electronic/Electrical/Communication average(电子/电器/通信平均)', u'Maintenance engineer(维修工程师)', u'Technical engineers(研发工程师)']\n"
     ]
    }
   ],
   "source": [
    "msg = repr(names).decode('unicode-escape')\n",
    "print msg"
   ]
  },
  {
   "cell_type": "code",
   "execution_count": 9,
   "metadata": {
    "collapsed": false
   },
   "outputs": [
    {
     "name": "stdout",
     "output_type": "stream",
     "text": [
      "0 SDE/Network average(软件/网络平均)\n1 Website editor(网站编辑)\n2 Senior product manager(高级产品经理)\n3 Electronic/Electrical/Communication average(电子/电器/通信平均)\n4 Maintenance engineer(维修工程师)\n5 Technical engineers(研发工程师)\n"
     ]
    },
    {
     "data": {
      "image/png": "[encoded data removed]",
      "text/plain": [
       "<matplotlib.figure.Figure at 0x4114e90>"
      ]
     },
     "metadata": {},
     "output_type": "display_data"
    }
   ],
   "source": [
    "factor=[]\n",
    "for i in range(0,len(twages)):\n",
    "    print i,names[i]\n",
    "    x = np.arange(1, 31, 1)\n",
    "    y = np.array(twages[i])\n",
    "    z1 = np.polyfit(x, y, 3)\n",
    "    factor.append(z1)\n",
    "    plt.plot(range(1,31),twages[i],label=names[i])\n",
    "plt.show()"
   ]
  },
  {
   "cell_type": "code",
   "execution_count": 10,
   "metadata": {},
   "outputs": [
    {
     "data": {
      "text/plain": [
       "[array([ -1.00153657e+02,   5.73913193e+03,   1.28036360e+05,\n         -9.80497594e+04]),\n array([   -71.91894848,   4166.503073  ,  52976.56069408, -24431.75478927]),\n array([ -8.99802156e+01,   5.18570067e+03,   2.02162878e+05,\n         -9.71842058e+04]),\n array([ -6.75670789e+01,   3.85953064e+03,   1.01026799e+05,\n         -6.95426573e+04]),\n array([ -3.19354558e+01,   1.83806420e+03,   6.04028711e+04,\n         -2.20902726e+04]),\n array([ -9.94975244e+01,   5.70230924e+03,   1.41271810e+05,\n         -1.36122452e+05])]"
      ]
     },
     "execution_count": 10,
     "metadata": {},
     "output_type": "execute_result"
    }
   ],
   "source": [
    "factor"
   ]
  },
  {
   "cell_type": "code",
   "execution_count": 13,
   "metadata": {
    "collapsed": false
   },
   "outputs": [],
   "source": [
    "data=[]\n",
    "for i in range(0,len(twages)):\n",
    "    data.append({\"title\":names[i],\"factor\":factor[i].tolist()})"
   ]
  },
  {
   "cell_type": "code",
   "execution_count": 14,
   "metadata": {
    "collapsed": true
   },
   "outputs": [
    {
     "name": "stdout",
     "output_type": "stream",
     "text": [
      "[{'factor': [-100.153656786315, 5739.131933242013, 128036.35976415545, -98049.75935048718], 'title': u'SDE/Network average(\\u8f6f\\u4ef6/\\u7f51\\u7edc\\u5e73\\u5747)'}, {'factor': [-71.91894847623357, 4166.503072999137, 52976.56069407518, -24431.754789274957], 'title': u'Website editor(\\u7f51\\u7ad9\\u7f16\\u8f91)'}, {'factor': [-89.9802155781023, 5185.700674310238, 202162.8783050057, -97184.20580186293], 'title': u'Senior product manager(\\u9ad8\\u7ea7\\u4ea7\\u54c1\\u7ecf\\u7406)'}, {'factor': [-67.5670788733333, 3859.530644151386, 101026.79915495116, -69542.6572705725], 'title': u'Electronic/Electrical/Communication average(\\u7535\\u5b50/\\u7535\\u5668/\\u901a\\u4fe1\\u5e73\\u5747)'}, {'factor': [-31.935455781395493, 1838.0642031309312, 60402.87110337462, -22090.272577997814], 'title': u'Maintenance engineer(\\u7ef4\\u4fee\\u5de5\\u7a0b\\u5e08)'}, {'factor': [-99.49752437238469, 5702.309243716329, 141271.81047591259, -136122.45210728238], 'title': u'Technical engineers(\\u7814\\u53d1\\u5de5\\u7a0b\\u5e08)'}]\n"
     ]
    }
   ],
   "source": [
    "msg = repr(data).decode('unicode-escape')\n",
    "print data"
   ]
  },
  {
   "cell_type": "code",
   "execution_count": 16,
   "metadata": {},
   "outputs": [],
   "source": [
    "import json\n",
    "with open('samplewage.json', 'w') as outfile:\n",
    "    json.dump({\"jobs\":data}, outfile)"
   ]
  },
  {
   "cell_type": "code",
   "execution_count": null,
   "metadata": {},
   "outputs": [],
   "source": [
    ""
   ]
  }
 ],
 "metadata": {
  "kernelspec": {
   "display_name": "Python 2",
   "language": "python",
   "name": "python2"
  },
  "language_info": {
   "codemirror_mode": {
    "name": "ipython",
    "version": 2.0
   },
   "file_extension": ".py",
   "mimetype": "text/x-python",
   "name": "python",
   "nbconvert_exporter": "python",
   "pygments_lexer": "ipython2",
   "version": "2.7.12"
  }
 },
 "nbformat": 4,
 "nbformat_minor": 0
}